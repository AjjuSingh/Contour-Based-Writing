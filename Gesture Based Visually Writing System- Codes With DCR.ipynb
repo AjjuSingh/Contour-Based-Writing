{
 "cells": [
  {
   "cell_type": "code",
   "execution_count": 1,
   "metadata": {
    "ExecuteTime": {
     "end_time": "2020-08-09T12:17:47.747902Z",
     "start_time": "2020-08-09T12:17:28.354244Z"
    }
   },
   "outputs": [
    {
     "name": "stderr",
     "output_type": "stream",
     "text": [
      "Using TensorFlow backend.\n"
     ]
    }
   ],
   "source": [
    "import cv2\n",
    "import numpy as np\n",
    "import matplotlib.pyplot as plt\n",
    "import imutils\n",
    "import time\n",
    "from dcr.recognition import *"
   ]
  },
  {
   "cell_type": "code",
   "execution_count": 2,
   "metadata": {
    "ExecuteTime": {
     "end_time": "2020-08-09T12:17:47.757846Z",
     "start_time": "2020-08-09T12:17:47.750864Z"
    }
   },
   "outputs": [],
   "source": [
    "def show(img, figsize=(10, 10)):\n",
    "    figure = plt.figure(figsize=figsize)\n",
    "    plt.imshow(img)\n",
    "    plt.show()"
   ]
  },
  {
   "cell_type": "code",
   "execution_count": 5,
   "metadata": {
    "ExecuteTime": {
     "end_time": "2020-08-09T12:30:10.330134Z",
     "start_time": "2020-08-09T12:28:13.722915Z"
    },
    "code_folding": []
   },
   "outputs": [
    {
     "name": "stderr",
     "output_type": "stream",
     "text": [
      "Clipping input data to the valid range for imshow with RGB data ([0..1] for floats or [0..255] for integers).\n"
     ]
    },
    {
     "data": {
      "image/png": "[encoded data removed]",
      "text/plain": [
       "<Figure size 720x720 with 1 Axes>"
      ]
     },
     "metadata": {
      "needs_background": "light"
     },
     "output_type": "display_data"
    },
    {
     "name": "stdout",
     "output_type": "stream",
     "text": [
      "WARNING:tensorflow:From C:\\ProgramData\\Anaconda3\\lib\\site-packages\\keras\\backend\\tensorflow_backend.py:74: The name tf.get_default_graph is deprecated. Please use tf.compat.v1.get_default_graph instead.\n",
      "\n",
      "WARNING:tensorflow:From C:\\ProgramData\\Anaconda3\\lib\\site-packages\\keras\\backend\\tensorflow_backend.py:517: The name tf.placeholder is deprecated. Please use tf.compat.v1.placeholder instead.\n",
      "\n",
      "WARNING:tensorflow:From C:\\ProgramData\\Anaconda3\\lib\\site-packages\\keras\\backend\\tensorflow_backend.py:4138: The name tf.random_uniform is deprecated. Please use tf.random.uniform instead.\n",
      "\n",
      "WARNING:tensorflow:From C:\\ProgramData\\Anaconda3\\lib\\site-packages\\keras\\backend\\tensorflow_backend.py:3976: The name tf.nn.max_pool is deprecated. Please use tf.nn.max_pool2d instead.\n",
      "\n",
      "WARNING:tensorflow:From C:\\ProgramData\\Anaconda3\\lib\\site-packages\\keras\\backend\\tensorflow_backend.py:133: The name tf.placeholder_with_default is deprecated. Please use tf.compat.v1.placeholder_with_default instead.\n",
      "\n",
      "WARNING:tensorflow:From C:\\ProgramData\\Anaconda3\\lib\\site-packages\\keras\\backend\\tensorflow_backend.py:3445: calling dropout (from tensorflow.python.ops.nn_ops) with keep_prob is deprecated and will be removed in a future version.\n",
      "Instructions for updating:\n",
      "Please use `rate` instead of `keep_prob`. Rate should be set to `rate = 1 - keep_prob`.\n",
      "WARNING:tensorflow:From C:\\ProgramData\\Anaconda3\\lib\\site-packages\\keras\\backend\\tensorflow_backend.py:174: The name tf.get_default_session is deprecated. Please use tf.compat.v1.get_default_session instead.\n",
      "\n",
      "WARNING:tensorflow:From C:\\ProgramData\\Anaconda3\\lib\\site-packages\\keras\\backend\\tensorflow_backend.py:181: The name tf.ConfigProto is deprecated. Please use tf.compat.v1.ConfigProto instead.\n",
      "\n",
      "WARNING:tensorflow:From C:\\ProgramData\\Anaconda3\\lib\\site-packages\\keras\\backend\\tensorflow_backend.py:186: The name tf.Session is deprecated. Please use tf.compat.v1.Session instead.\n",
      "\n",
      "WARNING:tensorflow:From C:\\ProgramData\\Anaconda3\\lib\\site-packages\\keras\\backend\\tensorflow_backend.py:190: The name tf.global_variables is deprecated. Please use tf.compat.v1.global_variables instead.\n",
      "\n",
      "WARNING:tensorflow:From C:\\ProgramData\\Anaconda3\\lib\\site-packages\\keras\\backend\\tensorflow_backend.py:199: The name tf.is_variable_initialized is deprecated. Please use tf.compat.v1.is_variable_initialized instead.\n",
      "\n",
      "WARNING:tensorflow:From C:\\ProgramData\\Anaconda3\\lib\\site-packages\\keras\\backend\\tensorflow_backend.py:206: The name tf.variables_initializer is deprecated. Please use tf.compat.v1.variables_initializer instead.\n",
      "\n"
     ]
    },
    {
     "name": "stderr",
     "output_type": "stream",
     "text": [
      "C:\\ProgramData\\Anaconda3\\lib\\site-packages\\keras\\engine\\saving.py:292: UserWarning: No training configuration found in save file: the model was *not* compiled. Compile it manually.\n",
      "  warnings.warn('No training configuration found in save file: '\n"
     ]
    },
    {
     "data": {
      "image/png": "[encoded data removed]",
      "text/plain": [
       "<Figure size 432x288 with 1 Axes>"
      ]
     },
     "metadata": {},
     "output_type": "display_data"
    },
    {
     "name": "stdout",
     "output_type": "stream",
     "text": [
      "The prediction accuracy for  श  is  99.99 %\n"
     ]
    }
   ],
   "source": [
    "def running_average(bg_img, image, aweight):\n",
    "    if bg_img is None:\n",
    "        bg_img = image.copy().astype(\"float\")\n",
    "    else:\n",
    "        cv2.accumulateWeighted(image, bg_img, aweight)    \n",
    "    return bg_img\n",
    "\n",
    "def get_contours(bg_img, image, threshold=10):\n",
    "    \n",
    "    # abs diff betn img and bg\n",
    "    diff = cv2.absdiff(bg_img.astype(\"uint8\"), image)    \n",
    "    _, th = cv2.threshold(diff, threshold, 255, cv2.THRESH_BINARY)\n",
    "    (cnts, _) = cv2.findContours(th.copy(), cv2.RETR_EXTERNAL, cv2.CHAIN_APPROX_SIMPLE)\n",
    "    \n",
    "    if len(cnts) == 0:\n",
    "        return None\n",
    "    else:\n",
    "        max_cnt = max(cnts, key=cv2.contourArea)\n",
    "        return th, max_cnt\n",
    "\n",
    "#accumulate weight variable\n",
    "aweight = 0.5\n",
    "# strat the camera\n",
    "cam = cv2.VideoCapture(0)\n",
    "# ROI box\n",
    "top, right, bottom, left = 250, 400, 480, 640\n",
    "# count frame\n",
    "num_frames=0\n",
    "# writing canvas\n",
    "canvas = None\n",
    "# thickness\n",
    "t=3\n",
    "# draw color(ink color)\n",
    "draw_color = (0, 255, 0)\n",
    "# pointer color\n",
    "pointer_color = (255, 0, 0)\n",
    "# mode flag\n",
    "erase = False\n",
    "# flag to indicate take average\n",
    "take_average=True\n",
    "#bg image\n",
    "bg_img=None\n",
    "# loop while everything is true\n",
    "while True:\n",
    "    # read the camera result\n",
    "    (ret, frame) = cam.read()\n",
    "    # if camera has read frame\n",
    "    if ret:\n",
    "        # wait for 1ms to key press\n",
    "        key = cv2.waitKey(1) & 0xFF\n",
    "        frame = imutils.resize(frame, width=700)\n",
    "        # flip to remove mirror effect\n",
    "        frame = cv2.flip(frame, 1)\n",
    "        # clone it to not mess with real frame\n",
    "        clone = frame.copy()\n",
    "        h, w = frame.shape[:2]\n",
    "        # take roi, to send it onto contour/average extraction\n",
    "        roi = frame[top:bottom, right:left]\n",
    "        # roi to grayscale\n",
    "        gray = cv2.cvtColor(roi, cv2.COLOR_BGR2GRAY)\n",
    "        # add GaussianBlur to eliminate some noise\n",
    "        gray = cv2.GaussianBlur(gray, (7, 7), 0)\n",
    "        \n",
    "        # if to take average and num frames on average taking is lesser than \n",
    "        if num_frames<100 and take_average==True:\n",
    "            # perform running average\n",
    "            bg_img = running_average(bg_img, gray, aweight)\n",
    "            # put frame number on frame\n",
    "            cv2.putText(clone, str(num_frames), (100, 100),\n",
    "                                   cv2.FONT_HERSHEY_SIMPLEX, 0.5, (0, 0, 255), 5)\n",
    "            num_frames+=1\n",
    "        # if not to take average\n",
    "        else:\n",
    "            num_frames=0                        \n",
    "            # take our segmented hand\n",
    "            hand = get_contours(bg_img, gray)\n",
    "            take_average=False\n",
    "            if hand is not None:\n",
    "                \n",
    "                # if pressed x, erase\n",
    "                if chr(key) == \"x\":\n",
    "                    draw_color = (255, 255, 255)\n",
    "                    pointer_color = (0, 0, 255)\n",
    "                    erase = True\n",
    "                if chr(key) == \"c\":\n",
    "                    draw_color = (0, 255, 0)\n",
    "                    pointer_color = (255, 0, 0)\n",
    "                    erase = False\n",
    "                #idle\n",
    "                if chr(key) == \"z\":\n",
    "                    erase = None\n",
    "                    pointer_color = (0, 0, 0)                   \n",
    "                # restart system\n",
    "                if chr(key) == \"r\":\n",
    "                    take_average=True\n",
    "                    canvas = None\n",
    "                if chr(key) == \"e\":\n",
    "                    canvas = None\n",
    "                    drawn = np.zeros(drawn.shape)+255\n",
    "                \n",
    "                \n",
    "                                    \n",
    "                thresholded, segmented = hand\n",
    "                cv2.drawContours(clone, [segmented+(right,top)], -1, (0, 0, 255))   \n",
    "                \n",
    "                tshape = thresholded.shape\n",
    "                sshape = segmented.shape\n",
    "                new_segmented = segmented.reshape(sshape[0], sshape[-1])\n",
    "                m = new_segmented.min(axis=0)\n",
    "                \n",
    "                if type(canvas) == type(None):\n",
    "                    canvas = np.zeros((tshape[0], tshape[1], 3))+255\n",
    "                \n",
    "                c = np.zeros(canvas.shape, dtype=np.uint8)\n",
    "                cv2.circle(c, (m[0], m[1]), 5, pointer_color, -3)\n",
    "                cv2.circle(clone, (right+m[0], top+m[1]), 5, pointer_color, -3)\n",
    "                \n",
    "                if erase==True:\n",
    "                    cv2.circle(canvas, (m[0], m[1]), 5, draw_color, -3)\n",
    "                    erimg=cv2.circle(canvas.copy(), (m[0], m[1]), 5, (0, 0, 0), -3)            \n",
    "                    cv2.circle(c, (m[0], m[1]), 5, (0, 0, 255), -3)\n",
    "                    e = cv2.erode(erimg, (3, 3), iterations=5)\n",
    "                    drawn = cv2.resize(e, (clone.shape[1], clone.shape[0]))\n",
    "                    c = cv2.resize(c, (clone.shape[1], clone.shape[0]))\n",
    "                    drawn_new = drawn+c\n",
    "                    cv2.imshow(\"Drawing\", drawn+c)\n",
    "                    erimg=cv2.circle(canvas.copy(), (m[0], m[1]), 5, (255, 255, 255), -3)            \n",
    "                    cv2.circle(c, (m[0], m[1]), 5, (0, 0, 255), -3)\n",
    "                    e = cv2.erode(erimg, (3, 3), iterations=5)\n",
    "                    drawn = cv2.resize(e, (clone.shape[1], clone.shape[0]))                    \n",
    "                elif erase==False:\n",
    "                    #cv2.imshow(\"Thresholded\", c)\n",
    "                    cv2.circle(canvas, (m[0], m[1]), 5, draw_color, -3)\n",
    "                    e = cv2.erode(canvas, (3, 3), iterations=5)\n",
    "                    drawn = cv2.resize(e, (clone.shape[1], clone.shape[0]))\n",
    "                    c = cv2.resize(c, (clone.shape[1], clone.shape[0]))\n",
    "                    drawn_new = drawn+c\n",
    "                    cv2.imshow(\"Drawing\", drawn+c)\n",
    "                elif erase == None:\n",
    "                    canvas_shape = canvas.shape\n",
    "                    clone_shape = clone.shape\n",
    "                    eshape = (clone_shape[0]/canvas_shape[0], clone_shape[1]/canvas_shape[1])\n",
    "                    m[0] = int(eshape[1]*m[0])\n",
    "                    m[1] = int(eshape[0]*m[1])\n",
    "                    drawn = cv2.resize(drawn, (clone.shape[1], clone.shape[0]))\n",
    "                    dc = drawn.copy()  \n",
    "                    cv2.circle(dc, (m[0], m[1]), 10, pointer_color, -3)\n",
    "                    \n",
    "                    cv2.imshow(\"Drawing\", dc)\n",
    "                \n",
    "        if chr(key) == \"s\":\n",
    "            show(drawn)\n",
    "            d = drawn.copy().astype(np.uint8) \n",
    "            r = recognition(cv2.cvtColor(d, cv2.COLOR_BGR2GRAY), 'show')\n",
    "            cv2.imshow(\"Detection\", r)\n",
    "            \n",
    "        # draw a ROI\n",
    "        cv2.rectangle(clone, (left, top), (right, bottom), (0, 255, 0), 2)\n",
    "        # show live feed\n",
    "        cv2.imshow(\"Feed\", clone)\n",
    "        \n",
    "        if key == 32:\n",
    "            cv2.imwrite(\"Captured.png\", clone)\n",
    "        # if pressed  escape, loop out and stop processing\n",
    "        if key==27:\n",
    "            break\n",
    "cam.release()\n",
    "cv2.destroyAllWindows()\n",
    "    \n",
    "            "
   ]
  },
  {
   "cell_type": "code",
   "execution_count": 7,
   "metadata": {
    "ExecuteTime": {
     "end_time": "2020-08-01T10:40:23.468831Z",
     "start_time": "2020-08-01T10:40:21.952965Z"
    }
   },
   "outputs": [
    {
     "data": {
      "image/png": "[encoded data removed]",
      "text/plain": [
       "<Figure size 432x288 with 1 Axes>"
      ]
     },
     "metadata": {},
     "output_type": "display_data"
    },
    {
     "name": "stdout",
     "output_type": "stream",
     "text": [
      "The prediction accuracy for  क  is  100.00 %\n"
     ]
    }
   ],
   "source": [
    "# r = recognition(cv2.cvtColor(drawn, cv2.COLOR_BGR2GRAY), 'show')\n",
    "drawn = cv2.imread(\"ka.png\", 0)\n",
    "d = drawn.copy().astype(np.uint8)          \n",
    "# cv2.cvtColor(d, cv2.COLOR_BGR2GRAY)\n",
    "recognition(d, 'show')"
   ]
  },
  {
   "cell_type": "code",
   "execution_count": 2,
   "metadata": {
    "ExecuteTime": {
     "end_time": "2020-08-01T10:32:30.170119Z",
     "start_time": "2020-08-01T10:32:30.154634Z"
    }
   },
   "outputs": [
    {
     "data": {
      "text/plain": [
       "'F:\\\\Desktop\\\\work\\\\Gesture Based Method'"
      ]
     },
     "execution_count": 2,
     "metadata": {},
     "output_type": "execute_result"
    }
   ],
   "source": [
    "import os\n",
    "os.getcwd()"
   ]
  },
  {
   "cell_type": "code",
   "execution_count": null,
   "metadata": {},
   "outputs": [],
   "source": []
  }
 ],
 "metadata": {
  "kernelspec": {
   "display_name": "Python 3",
   "language": "python",
   "name": "python3"
  },
  "language_info": {
   "codemirror_mode": {
    "name": "ipython",
    "version": 3
   },
   "file_extension": ".py",
   "mimetype": "text/x-python",
   "name": "python",
   "nbconvert_exporter": "python",
   "pygments_lexer": "ipython3",
   "version": "3.7.4"
  },
  "latex_envs": {
   "LaTeX_envs_menu_present": true,
   "autoclose": false,
   "autocomplete": true,
   "bibliofile": "biblio.bib",
   "cite_by": "apalike",
   "current_citInitial": 1,
   "eqLabelWithNumbers": true,
   "eqNumInitial": 1,
   "hotkeys": {
    "equation": "Ctrl-E",
    "itemize": "Ctrl-I"
   },
   "labels_anchors": false,
   "latex_user_defs": false,
   "report_style_numbering": false,
   "user_envs_cfg": false
  },
  "nbTranslate": {
   "displayLangs": [
    "*"
   ],
   "hotkey": "alt-t",
   "langInMainMenu": true,
   "sourceLang": "en",
   "targetLang": "fr",
   "useGoogleTranslate": true
  },
  "toc": {
   "base_numbering": 1,
   "nav_menu": {},
   "number_sections": true,
   "sideBar": true,
   "skip_h1_title": false,
   "title_cell": "Table of Contents",
   "title_sidebar": "Contents",
   "toc_cell": false,
   "toc_position": {},
   "toc_section_display": true,
   "toc_window_display": false
  }
 },
 "nbformat": 4,
 "nbformat_minor": 2
}
